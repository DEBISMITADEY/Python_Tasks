{
 "cells": [
  {
   "cell_type": "markdown",
   "id": "ddd436e2",
   "metadata": {},
   "source": [
    "## Day-1 Task \n",
    "\n",
    "  \n",
    "1) Install Python on your Local Operating System <br><br>\n",
    "https://youtu.be/M5ILgNI0iXw (python installation) <br>\n",
    "https://youtu.be/SBOFnzVuzOE (vim Editor) <br><br>\n",
    "\n",
    "2) List Some Mega Projects Hosted in Python <br><br>\n",
    "Database Projects: Management Systems (Library, Hotel, Hospital, School) <br>\n",
    "ML Projects: Classification <br>\n",
    "AI Projects: Chatbots, face detection and recognition, speech recognition, Security <br>\n",
    "Data Science Projects: Global Terrorism Analysis, Call Data Record Analysis <br><br>\n",
    "\n",
    "3) List Python Libraries Used in Different IT Domains <br><br>\n",
    "Pandas, numpy, matplotlib, tkinter, sklearn, tensorflow <br><br>\n",
    "\n",
    "4) Create a Program and execute a script in Python  \n"
   ]
  },
  {
   "cell_type": "code",
   "execution_count": 5,
   "id": "092b7aa4",
   "metadata": {},
   "outputs": [
    {
     "name": "stdout",
     "output_type": "stream",
     "text": [
      "Hello World\n",
      "Sum is : 50\n"
     ]
    }
   ],
   "source": [
    "print('Hello World') \n",
    "a = 45 \n",
    "b = 5 \n",
    "c = a+b \n",
    "print('Sum is :', c) "
   ]
  }
 ],
 "metadata": {
  "kernelspec": {
   "display_name": "Python 3 (ipykernel)",
   "language": "python",
   "name": "python3"
  },
  "language_info": {
   "codemirror_mode": {
    "name": "ipython",
    "version": 3
   },
   "file_extension": ".py",
   "mimetype": "text/x-python",
   "name": "python",
   "nbconvert_exporter": "python",
   "pygments_lexer": "ipython3",
   "version": "3.9.7"
  }
 },
 "nbformat": 4,
 "nbformat_minor": 5
}
